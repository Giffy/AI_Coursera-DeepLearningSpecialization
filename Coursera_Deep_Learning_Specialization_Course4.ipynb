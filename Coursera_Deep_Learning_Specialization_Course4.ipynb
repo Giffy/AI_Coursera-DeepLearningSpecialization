{
  "nbformat": 4,
  "nbformat_minor": 0,
  "metadata": {
    "colab": {
      "name": "Coursera - Deep Learning Specialization - Course4.ipynb",
      "version": "0.3.2",
      "provenance": [],
      "collapsed_sections": [
        "jAJ03KTLMY6t",
        "GdWNJsaqmBUF",
        "MNLuMRmZlnIh"
      ],
      "include_colab_link": true
    },
    "kernelspec": {
      "name": "python3",
      "display_name": "Python 3"
    }
  },
  "cells": [
    {
      "cell_type": "markdown",
      "metadata": {
        "id": "view-in-github",
        "colab_type": "text"
      },
      "source": [
        "<a href=\"https://colab.research.google.com/github/Giffy/Coursera-DeepLearningSpecialization/blob/master/Coursera_Deep_Learning_Specialization_Course4.ipynb\" target=\"_parent\"><img src=\"https://colab.research.google.com/assets/colab-badge.svg\" alt=\"Open In Colab\"/></a>"
      ]
    },
    {
      "metadata": {
        "id": "EGKrxCDMfYjR",
        "colab_type": "text"
      },
      "cell_type": "markdown",
      "source": [
        "#DeepLearning.ai  - Coursera Deep Learning Specialization - Course 4"
      ]
    },
    {
      "metadata": {
        "id": "wa6Dlaewyw2n",
        "colab_type": "text"
      },
      "cell_type": "markdown",
      "source": [
        "![deeplearning.ai specialization](https://raw.githubusercontent.com/Giffy/Coursera-DeepLearningSpecialization/master/images/deeplearningai-Course4.png)"
      ]
    },
    {
      "metadata": {
        "id": "5rGF1cf0eN-Q",
        "colab_type": "text"
      },
      "cell_type": "markdown",
      "source": [
        "## Course 4 - Convolutional Neural Networks (Under Construction)\n",
        "![Course 4 ](https://raw.githubusercontent.com/Giffy/Coursera-DeepLearningSpecialization/master/images/Course4.png)\n",
        "\n",
        "playlist:  [https://www.youtube.com]( https://www.youtube.com/playlist?list=PLkDaE6sCZn6Gl29AoE31iwdVwSG-KnDzF)"
      ]
    },
    {
      "metadata": {
        "id": "mtYy0GrdzOB6",
        "colab_type": "text"
      },
      "cell_type": "markdown",
      "source": [
        "###Week 1   ( 1h 45min)"
      ]
    },
    {
      "metadata": {
        "id": "E3ii1NoJjvB_",
        "colab_type": "text"
      },
      "cell_type": "markdown",
      "source": [
        "Lesson 1 - [Computer Vision](https://www.youtube.com/watch?v=ArPaAX_PhIs)  (5:44)\n",
        "\n",
        "Lesson 2 - [Vertical Edge detection](https://www.youtube.com/watch?v=XuD4C8vJzEQ) (11:31)\n",
        "\n",
        "Lesson 3 - [Positive and negative Edges](https://www.youtube.com/watch?v=am36dePheDc) (light to dark) and horitzontal (7:57)\n",
        "\n",
        "Lesson 4 - [Padding ](https://www.youtube.com/watch?v=smHa2442Ah4)  (9:50)\n",
        "\n",
        "Lesson 5 - [Stridded convolutions](https://www.youtube.com/watch?v=tQYZaDn_kSg)  (9:02)\n",
        "\n",
        "Lesson 6 - [Convolutions over volumes](https://www.youtube.com/watch?v=KTB_OFoAQcc) (10:44)\n",
        "\n",
        "Lesson 7 - [One layer of a concolutional Net](https://www.youtube.com/watch?v=jPOAS7uCODQ) (16:10)\n",
        "\n",
        "Lesson 8 - [Simple Convolutional Network Example](https://www.youtube.com/watch?v=3PyJA9AfwSk) (8:35)\n",
        "\n",
        "Lesson 9 - [Pooling Layers](https://www.youtube.com/watch?v=8oOgPUO-TBY) (10:29) \n",
        "   - Max pooling / Average pooling\n",
        "   - Hyperparameters:  f (filter size) , s (stride)\n",
        "   \n",
        "Lesson 10 - [CNN Example](https://www.youtube.com/watch?v=bXJx7y51cl0) (11:40)\n",
        "\n",
        "Lesson 11 - [Why Convolutions](https://www.youtube.com/watch?v=ay3zYUeuyhU) (9:40)"
      ]
    },
    {
      "metadata": {
        "id": "NKCRK3Hm94RB",
        "colab_type": "text"
      },
      "cell_type": "markdown",
      "source": [
        "### Congratulations!!!  You finished the Course 4.\n",
        "[Start the course 5 clicking here](https://github.com/Giffy/Coursera-DeepLearningSpecialization/blob/master/Coursera_Deep_Learning_Specialization_Course5.ipynb)"
      ]
    },
    {
      "metadata": {
        "id": "QG5SyYp39_rI",
        "colab_type": "code",
        "colab": {}
      },
      "cell_type": "code",
      "source": [
        ""
      ],
      "execution_count": 0,
      "outputs": []
    }
  ]
}