{
  "nbformat": 4,
  "nbformat_minor": 0,
  "metadata": {
    "colab": {
      "name": "Coursera - Deep Learning Specialization - Course2.ipynb",
      "version": "0.3.2",
      "provenance": [],
      "collapsed_sections": [
        "jAJ03KTLMY6t",
        "GdWNJsaqmBUF",
        "MNLuMRmZlnIh"
      ],
      "include_colab_link": true
    },
    "kernelspec": {
      "name": "python3",
      "display_name": "Python 3"
    }
  },
  "cells": [
    {
      "cell_type": "markdown",
      "metadata": {
        "id": "view-in-github",
        "colab_type": "text"
      },
      "source": [
        "<a href=\"https://colab.research.google.com/github/Giffy/Coursera-DeepLearningSpecialization/blob/master/Coursera_Deep_Learning_Specialization_Course2.ipynb\" target=\"_parent\"><img src=\"https://colab.research.google.com/assets/colab-badge.svg\" alt=\"Open In Colab\"/></a>"
      ]
    },
    {
      "metadata": {
        "id": "EGKrxCDMfYjR",
        "colab_type": "text"
      },
      "cell_type": "markdown",
      "source": [
        "#DeepLearning.ai  - Coursera Deep Learning Specialization - Course 2"
      ]
    },
    {
      "metadata": {
        "id": "wa6Dlaewyw2n",
        "colab_type": "text"
      },
      "cell_type": "markdown",
      "source": [
        "![deeplearning.ai specialization](https://raw.githubusercontent.com/Giffy/Coursera-DeepLearningSpecialization/master/images/deeplearningai-Course2.png)"
      ]
    },
    {
      "metadata": {
        "id": "GdWNJsaqmBUF",
        "colab_type": "text"
      },
      "cell_type": "markdown",
      "source": [
        "## Course 2 - Tuning Networks\n",
        "![Course 2](https://raw.githubusercontent.com/Giffy/Coursera-DeepLearningSpecialization/master/images/Course2.png)\n",
        "\n",
        "playlist: [Playlist](https://www.youtube.com/watch?v=1waHlpKiNyY&list=PLkDaE6sCZn6Hn0vK8co82zjQtt3T2Nkqc)"
      ]
    },
    {
      "metadata": {
        "id": "ffl-LjRv2pGj",
        "colab_type": "text"
      },
      "cell_type": "markdown",
      "source": [
        "###Week 1"
      ]
    },
    {
      "metadata": {
        "id": "35x_VoZ9eWZG",
        "colab_type": "text"
      },
      "cell_type": "markdown",
      "source": [
        "Lesson1 - [Train/Dev/Test Sets](https://www.youtube.com/watch?v=1waHlpKiNyY) (12:04)\n",
        "\n",
        "Lesson2 - [Bias/Variance](https://www.youtube.com/watch?v=SjQyLhQIXSM) (8:46)\n",
        "\n",
        "Lesson3 - [Basic recipe for machine learning](https://www.youtube.com/watch?v=C1N_PDHuJ6Q) (6:21)\n",
        "\n",
        "Lesson4 - [Regularization](https://www.youtube.com/watch?v=6g0t3Phly2M) (9:42)\n",
        "\n",
        "Lesson5 - [Why regularization reduces overfitting](https://www.youtube.com/watch?v=NyG-7nRpsW8) (7:09)\n",
        "\n",
        "Lesson6 - [Dropout regularization](https://www.youtube.com/watch?v=D8PJAL-MZv8)(9:25)\n",
        "\n",
        "Lesson7 - [Understanding dropout](https://www.youtube.com/watch?v=ARq74QuavAo) (7:04)\n",
        "\n",
        "Lesson8 - [Other regularization methods](https://www.youtube.com/watch?v=BOCLq2gpcGU) (8:23)\n",
        "\n",
        "Lesson9 - [Normalizing inputs](https://www.youtube.com/watch?v=FDCfw-YqWTE) (5:30)\n",
        "\n",
        "Lesson10 - [Vanishing/Exploding Gradients](https://www.youtube.com/watch?v=qhXZsFVxGKo) (6:07)\n",
        "\n",
        "Lesson11 - [Weight initialization in a deep network](https://www.youtube.com/watch?v=s2coXdufOzE) (6:11)\n",
        "\n",
        "Lesson12 - [Numerical approximations of gradients](https://www.youtube.com/watch?v=y1xoI7mBtOc) (6:35)\n",
        "\n",
        "Lesson13 - [Gradient checking](https://www.youtube.com/watch?v=QrzApibhohY) (6:34)\n",
        "\n",
        "Lesson14 - [Gradient checking implementation notes](https://www.youtube.com/watch?v=4Ct3Yujl1dk) (5:18)"
      ]
    },
    {
      "metadata": {
        "id": "kiJny8Oj2xnk",
        "colab_type": "text"
      },
      "cell_type": "markdown",
      "source": [
        "###Week 2"
      ]
    },
    {
      "metadata": {
        "id": "YzRISD-FmMer",
        "colab_type": "text"
      },
      "cell_type": "markdown",
      "source": [
        "Lesson1 - [Mini batch gradient descent](https://www.youtube.com/watch?v=4qJaSmvhxi8) (11:28)\n",
        "\n",
        "Lesson2 - [Understanding mini-batch gradient descent ](https://www.youtube.com/watch?v=-_4Zi8fCZO4) (11:18)\n",
        "\n",
        "Lesson3 - [Exponentially weighted averages](https://www.youtube.com/watch?v=lAq96T8FkTw) (5:58)\n",
        "\n",
        "Lesson4 - [Understanding exponentially weighted averages](https://www.youtube.com/watch?v=NxTFlzBjS-4) (9:41)\n",
        "\n",
        "Lesson5 - [Bias correction of exponentially weighted averages](https://www.youtube.com/watch?v=lWzo8CajF5s) (4:11)\n",
        "\n",
        "Lesson6 - [Gradient descent with momentum](https://www.youtube.com/watch?v=k8fTYJPd3_I)(9:20)\n",
        "\n",
        "Lesson7 - [RMSProp](https://www.youtube.com/watch?v=_e-LFe_igno) (7:41)\n",
        "\n",
        "Lesson8 - [ADAM optimization algorithm](https://www.youtube.com/watch?v=JXQT_vxqwIs) (7:07)\n",
        "\n",
        "Lesson9 - [Learning rate decay](https://www.youtube.com/watch?v=QzulmoOg2JE) (6:44)\n"
      ]
    },
    {
      "metadata": {
        "id": "iOPLbJUH2vY-",
        "colab_type": "text"
      },
      "cell_type": "markdown",
      "source": [
        "###Week 3"
      ]
    },
    {
      "metadata": {
        "id": "WQuyH0kv3EyD",
        "colab_type": "text"
      },
      "cell_type": "markdown",
      "source": [
        "Lesson1 - [Tuning Process](https://www.youtube.com/watch?v=AXDByU3D1hA) (7:10)\n",
        "\n",
        "Lesson2 - [Using an appropiate scale to pick hyperparameters](https://www.youtube.com/watch?v=cSoK_6Rkbfg) (8:50)\n",
        "\n",
        "Lesson3 - [Hyperparameters tuning in practice: Pandas vs. Caviar](https://www.youtube.com/watch?v=wKkcBPp3F1Y) (6:51)\n",
        "\n",
        "Lesson4 - [Normalizing activations in a network](https://www.youtube.com/watch?v=tNIpEZLv_eg) (8:54)\n",
        "\n",
        "Lesson5 - [Fitting batch norm into neural network](https://www.youtube.com/watch?v=em6dfRxYkYU) (12:55)\n",
        "\n",
        "Lesson6 - [Why does batch norm work?](https://www.youtube.com/watch?v=nUUqwaxLnWs)(11:39)\n",
        "\n",
        "Lesson7 - [Batch norm at test time](https://www.youtube.com/watch?v=5qefnAek8OA) (5:46)\n",
        "\n",
        "Lesson8 - [Softmax regression](https://www.youtube.com/watch?v=LLux1SW--oM) (11:47)\n",
        "\n",
        "Lesson9 - [Training softmax classifier](https://www.youtube.com/watch?v=ueO_Ph0Pyqk) (10:07)\n",
        "\n",
        "Lesson10- [The problem of local optima](https://www.youtube.com/watch?v=fODpu1-lNTw) (5:23)\n",
        "\n",
        "Lesson11 - [TensorFlow](https://www.youtube.com/watch?v=S9ElPZupUsE) (16:07)"
      ]
    }
  ]
}