{
  "nbformat": 4,
  "nbformat_minor": 0,
  "metadata": {
    "colab": {
      "name": "Coursera - Deep Learning Specialization - Course2.ipynb",
      "version": "0.3.2",
      "provenance": [],
      "collapsed_sections": [
        "jAJ03KTLMY6t",
        "GdWNJsaqmBUF",
        "MNLuMRmZlnIh"
      ],
      "include_colab_link": true
    },
    "kernelspec": {
      "name": "python3",
      "display_name": "Python 3"
    }
  },
  "cells": [
    {
      "cell_type": "markdown",
      "metadata": {
        "id": "view-in-github",
        "colab_type": "text"
      },
      "source": [
        "[![Open In Colab](https://colab.research.google.com/assets/colab-badge.svg)](https://colab.research.google.com/github/Giffy/Coursera-DeepLearningSpecialization/blob/master/Coursera_Deep_Learning_Specialization_Course2.ipynb)"
      ]
    },
    {
      "metadata": {
        "id": "EGKrxCDMfYjR",
        "colab_type": "text"
      },
      "cell_type": "markdown",
      "source": [
        "#DeepLearning.ai  - Coursera Deep Learning Specialization - Course 2"
      ]
    },
    {
      "metadata": {
        "id": "wa6Dlaewyw2n",
        "colab_type": "text"
      },
      "cell_type": "markdown",
      "source": [
        "![deeplearning.ai specialization](https://raw.githubusercontent.com/Giffy/Coursera-DeepLearningSpecialization/master/images/deeplearningai-Course2.png)"
      ]
    },
    {
      "metadata": {
        "id": "GdWNJsaqmBUF",
        "colab_type": "text"
      },
      "cell_type": "markdown",
      "source": [
        "## Course 2 - Tuning Networks\n",
        "![Course 2](https://raw.githubusercontent.com/Giffy/Coursera-DeepLearningSpecialization/master/images/Course2.png)\n",
        "\n",
        "playlist: [Playlist](https://www.youtube.com/watch?v=1waHlpKiNyY&list=PLkDaE6sCZn6Hn0vK8co82zjQtt3T2Nkqc)"
      ]
    },
    {
      "metadata": {
        "id": "35x_VoZ9eWZG",
        "colab_type": "text"
      },
      "cell_type": "markdown",
      "source": [
        "###Week 1\n",
        "\n",
        "-Lesson1 - [Train/Dev/Test Sets](https://www.youtube.com/watch?v=1waHlpKiNyY) (12:04)\n",
        "\n",
        "-Lesson2 - [Bias/Variance](https://www.youtube.com/watch?v=SjQyLhQIXSM) (8:46)\n",
        "\n",
        "-Lesson3 - [Basic Recipe for Machine Learning](https://www.youtube.com/watch?v=C1N_PDHuJ6Q) (6:21)\n",
        "\n",
        "-Lesson4 - [Regularization](https://www.youtube.com/watch?v=6g0t3Phly2M) (9:42)\n",
        "\n",
        "-Lesson5 - [Why Regularization Reduces Overfitting](https://www.youtube.com/watch?v=NyG-7nRpsW8) (7:09)\n",
        "\n",
        "-Lesson6 - [Dropout Regularization](https://www.youtube.com/watch?v=D8PJAL-MZv8)(9:25)\n",
        "\n",
        "-Lesson7 - [Understanding Dropout](https://www.youtube.com/watch?v=ARq74QuavAo) (7:04)\n",
        "\n",
        "-Lesson8 - [Other Regularization Methods](https://www.youtube.com/watch?v=BOCLq2gpcGU) (8:23)\n",
        "\n",
        "-Lesson9 - [Normalizing Inputs](https://www.youtube.com/watch?v=FDCfw-YqWTE) (5:30)\n",
        "\n",
        "-Lesson10 - [Vanishing/Exploding Gradients](https://www.youtube.com/watch?v=qhXZsFVxGKo) (6:07)\n",
        "\n",
        "-Lesson11 - [Weight Initialization in a Deep Network](https://www.youtube.com/watch?v=s2coXdufOzE) (6:11)\n",
        "\n",
        "-Lesson12 - [Numerical Approximations of Gradients](https://www.youtube.com/watch?v=y1xoI7mBtOc) (6:35)\n",
        "\n",
        "-Lesson13 - [Gradient Checking](https://www.youtube.com/watch?v=QrzApibhohY) (6:34)\n",
        "\n",
        "-Lesson14 - [Gradient Checking Implementation Notes](https://www.youtube.com/watch?v=4Ct3Yujl1dk) (5:18)"
      ]
    },
    {
      "metadata": {
        "id": "YzRISD-FmMer",
        "colab_type": "text"
      },
      "cell_type": "markdown",
      "source": [
        "###Week 2"
      ]
    },
    {
      "metadata": {
        "id": "MNLuMRmZlnIh",
        "colab_type": "text"
      },
      "cell_type": "markdown",
      "source": [
        "## Course 3 - Structuring ML projects\n",
        "![Course 3](https://raw.githubusercontent.com/Giffy/Coursera-DeepLearningSpecialization/master/images/Course3.png)\n",
        "\n",
        "playlist: https://www.youtube.com"
      ]
    },
    {
      "metadata": {
        "id": "jUf5c_FCl64S",
        "colab_type": "text"
      },
      "cell_type": "markdown",
      "source": [
        "###Week 1"
      ]
    },
    {
      "metadata": {
        "id": "5rGF1cf0eN-Q",
        "colab_type": "text"
      },
      "cell_type": "markdown",
      "source": [
        "## Course 4 - Convolutional Neural Networks\n",
        "![Course 4 ](https://raw.githubusercontent.com/Giffy/Coursera-DeepLearningSpecialization/master/images/Course4.png)\n",
        "\n",
        "playlist: https://www.youtube.com/playlist?list=PLkDaE6sCZn6Gl29AoE31iwdVwSG-KnDzF"
      ]
    },
    {
      "metadata": {
        "id": "mtYy0GrdzOB6",
        "colab_type": "text"
      },
      "cell_type": "markdown",
      "source": [
        "###Week 1   ( 1h 45min)"
      ]
    },
    {
      "metadata": {
        "id": "E3ii1NoJjvB_",
        "colab_type": "text"
      },
      "cell_type": "markdown",
      "source": [
        "Lesson 1 - [Computer Vision](https://www.youtube.com/watch?v=ArPaAX_PhIs)  (5:44)\n",
        "\n",
        "Lesson 2 - [Vertical Edge detection](https://www.youtube.com/watch?v=XuD4C8vJzEQ) (11:31)\n",
        "\n",
        "Lesson 3 - [Positive and negative Edges](https://www.youtube.com/watch?v=am36dePheDc) (light to dark) and horitzontal (7:57)\n",
        "\n",
        "Lesson 4 - [Padding ](https://www.youtube.com/watch?v=smHa2442Ah4)  (9:50)\n",
        "\n",
        "Lesson 5 - [Stridded convolutions](https://www.youtube.com/watch?v=tQYZaDn_kSg)  (9:02)\n",
        "\n",
        "Lesson 6 - [Convolutions over volumes](https://www.youtube.com/watch?v=KTB_OFoAQcc) (10:44)\n",
        "\n",
        "Lesson 7 - [One layer of a concolutional Net](https://www.youtube.com/watch?v=jPOAS7uCODQ) (16:10)\n",
        "\n",
        "Lesson 8 - [Simple Convolutional Network Example](https://www.youtube.com/watch?v=3PyJA9AfwSk) (8:35)\n",
        "\n",
        "Lesson 9 - [Pooling Layers](https://www.youtube.com/watch?v=8oOgPUO-TBY) (10:29) \n",
        "   - Max pooling / Average pooling\n",
        "   - Hyperparameters:  f (filter size) , s (stride)\n",
        "   \n",
        "Lesson 10 - [CNN Example](https://www.youtube.com/watch?v=bXJx7y51cl0) (11:40)\n",
        "\n",
        "Lesson 11 - [Why Convolutions](https://www.youtube.com/watch?v=ay3zYUeuyhU) (9:40)"
      ]
    }
  ]
}