{
  "nbformat": 4,
  "nbformat_minor": 0,
  "metadata": {
    "colab": {
      "name": "Coursera - Deep Learning Specialization - Course3.ipynb",
      "version": "0.3.2",
      "provenance": [],
      "collapsed_sections": [
        "jAJ03KTLMY6t",
        "GdWNJsaqmBUF",
        "MNLuMRmZlnIh"
      ],
      "include_colab_link": true
    },
    "kernelspec": {
      "name": "python3",
      "display_name": "Python 3"
    }
  },
  "cells": [
    {
      "cell_type": "markdown",
      "metadata": {
        "id": "view-in-github",
        "colab_type": "text"
      },
      "source": [
        "<a href=\"https://colab.research.google.com/github/Giffy/Coursera-DeepLearningSpecialization/blob/master/Coursera_Deep_Learning_Specialization_Course3.ipynb\" target=\"_parent\"><img src=\"https://colab.research.google.com/assets/colab-badge.svg\" alt=\"Open In Colab\"/></a>"
      ]
    },
    {
      "metadata": {
        "id": "EGKrxCDMfYjR",
        "colab_type": "text"
      },
      "cell_type": "markdown",
      "source": [
        "#DeepLearning.ai  - Coursera Deep Learning Specialization - Course 3"
      ]
    },
    {
      "metadata": {
        "id": "wa6Dlaewyw2n",
        "colab_type": "text"
      },
      "cell_type": "markdown",
      "source": [
        "![deeplearning.ai specialization](https://raw.githubusercontent.com/Giffy/Coursera-DeepLearningSpecialization/master/images/deeplearningai-Course3.png)"
      ]
    },
    {
      "metadata": {
        "id": "MNLuMRmZlnIh",
        "colab_type": "text"
      },
      "cell_type": "markdown",
      "source": [
        "## Course 3 - Structuring ML projects  (Under construction)\n",
        "![Course 3](https://raw.githubusercontent.com/Giffy/Coursera-DeepLearningSpecialization/master/images/Course3.png)\n",
        "\n",
        "playlist: https://www.youtube.com"
      ]
    },
    {
      "metadata": {
        "id": "jUf5c_FCl64S",
        "colab_type": "text"
      },
      "cell_type": "markdown",
      "source": [
        "###Week 1"
      ]
    },
    {
      "metadata": {
        "id": "AAFQMn5Z8982",
        "colab_type": "text"
      },
      "cell_type": "markdown",
      "source": [
        ""
      ]
    },
    {
      "metadata": {
        "id": "yQxZdILn9LJo",
        "colab_type": "text"
      },
      "cell_type": "markdown",
      "source": [
        "### Congratulations!!!  You finished the Course 3.\n",
        "[Start the course 4 clicking here](https://github.com/Giffy/Coursera-DeepLearningSpecialization/blob/master/Coursera_Deep_Learning_Specialization_Course4.ipynb)"
      ]
    }
  ]
}