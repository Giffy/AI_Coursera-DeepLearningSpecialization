{
  "nbformat": 4,
  "nbformat_minor": 0,
  "metadata": {
    "colab": {
      "name": "Coursera - Deep Learning Specialization.ipynb",
      "version": "0.3.2",
      "provenance": [],
      "collapsed_sections": [
        "jAJ03KTLMY6t",
        "GdWNJsaqmBUF",
        "MNLuMRmZlnIh"
      ],
      "include_colab_link": true
    },
    "kernelspec": {
      "name": "python3",
      "display_name": "Python 3"
    }
  },
  "cells": [
    {
      "cell_type": "markdown",
      "metadata": {
        "id": "view-in-github",
        "colab_type": "text"
      },
      "source": [
        "[View in Colaboratory](https://colab.research.google.com/github/Giffy/Coursera-DeepLearningSpecialization/blob/master/Coursera_Deep_Learning_Specialization.ipynb)"
      ]
    },
    {
      "metadata": {
        "id": "EGKrxCDMfYjR",
        "colab_type": "text"
      },
      "cell_type": "markdown",
      "source": [
        "#Coursera - Deep Learning Specialization"
      ]
    },
    {
      "metadata": {
        "id": "wa6Dlaewyw2n",
        "colab_type": "text"
      },
      "cell_type": "markdown",
      "source": [
        "![deeplearning.ai specialization](https://raw.githubusercontent.com/Giffy/Coursera-DeepLearningSpecialization/master/images/deeplearningai.png)"
      ]
    },
    {
      "metadata": {
        "id": "3bRZ2I68LAxF",
        "colab_type": "text"
      },
      "cell_type": "markdown",
      "source": [
        "## Course 1 - Convolutional Neural Networks\n",
        "![Course 1](https://raw.githubusercontent.com/Giffy/Coursera-DeepLearningSpecialization/master/images/Course1.png)\n",
        "\n",
        "[Playlist](https://www.youtube.com/playlist?list=PLkDaE6sCZn6Ec-XTbcX1uRg2_u4xOEky0)"
      ]
    },
    {
      "metadata": {
        "id": "jAJ03KTLMY6t",
        "colab_type": "text"
      },
      "cell_type": "markdown",
      "source": [
        "###Week 1  ( 36min )"
      ]
    },
    {
      "metadata": {
        "id": "QyGTKvEMKuNb",
        "colab_type": "text"
      },
      "cell_type": "markdown",
      "source": [
        "Lesson 1 - [Welcome](https://www.youtube.com/watch?v=CS4cs9xVecg) (5:31) \n",
        "\n",
        "Lesson 2 - [What is a Neural Network?](https://www.youtube.com/watch?v=n1l-9lIMW7E) (7:16) \n",
        "\n",
        "Lesson 3 - [Supervised Learning with a Neural Network](https://www.youtube.com/watch?v=BYGpKPY9pO0) (8:29) \n",
        "\n",
        "Lesson 4 - [Why deep learining is taking off?](https://www.youtube.com/watch?v=xflCLdJh0n0) (10:22) \n",
        "\n",
        "Lesson 5 - [About this course](https://www.youtube.com/watch?v=ysnIDax71yY) (2:28) \n",
        "\n",
        "Lesson 6 - [Course resources](https://www.youtube.com/watch?v=7AZjh2VXD6E) (1:56) "
      ]
    },
    {
      "metadata": {
        "id": "_TIWysU7UI8s",
        "colab_type": "text"
      },
      "cell_type": "markdown",
      "source": [
        "###Week 2 ( 2h )"
      ]
    },
    {
      "metadata": {
        "id": "DPF0vQLLUUNV",
        "colab_type": "text"
      },
      "cell_type": "markdown",
      "source": [
        "Lesson 1 - [Binary classification](https://www.youtube.com/watch?v=eqEc66RFY0I) (8:23) \n",
        "\n",
        "Lesson 2 - [Logistic Regression](https://www.youtube.com/watch?v=hjrYrynGWGA) (5:59) \n",
        "\n",
        "Lesson 3 - [Logistic Regression Cost Function](https://www.youtube.com/watch?v=SHEPb1JHw5o) (8:11) \n",
        "   - Loss (errror) function   L(ŷ,y)\n",
        "   - Cost function  J(w,b)\n",
        "\n",
        "Lesson 4 - [Gradient Descent](https://www.youtube.com/watch?v=uJryes5Vk1o) (11:24) \n",
        "\n",
        "Lesson 5 - [Derivates](https://www.youtube.com/watch?v=GzphoJOVEcE) (7:10) \n",
        "   - Slope = height / width\n",
        "\n",
        "Lesson 6 - [More derivative examples](https://www.youtube.com/watch?v=5H7M5Vd3-pk&t=320s) (5:07) \n",
        "\n",
        "Lesson 7 - [Computation graph](https://www.youtube.com/watch?v=hCP1vGoCdYU) (3:33) \n",
        "\n",
        "Lesson 8 - Derivatives with computation graphs (14:34)"
      ]
    },
    {
      "metadata": {
        "id": "GdWNJsaqmBUF",
        "colab_type": "text"
      },
      "cell_type": "markdown",
      "source": [
        "## Course 2 - Tuning Networks\n",
        "![Course 2](https://raw.githubusercontent.com/Giffy/Coursera-DeepLearningSpecialization/master/images/Course2.png)\n",
        "\n",
        "playlist: https://www.youtube.com"
      ]
    },
    {
      "metadata": {
        "id": "YzRISD-FmMer",
        "colab_type": "text"
      },
      "cell_type": "markdown",
      "source": [
        "###Week 1"
      ]
    },
    {
      "metadata": {
        "id": "MNLuMRmZlnIh",
        "colab_type": "text"
      },
      "cell_type": "markdown",
      "source": [
        "## Course 3 - Structuring ML projects\n",
        "![Course 3](https://raw.githubusercontent.com/Giffy/Coursera-DeepLearningSpecialization/master/images/Course3.png)\n",
        "\n",
        "playlist: https://www.youtube.com"
      ]
    },
    {
      "metadata": {
        "id": "jUf5c_FCl64S",
        "colab_type": "text"
      },
      "cell_type": "markdown",
      "source": [
        "###Week 1"
      ]
    },
    {
      "metadata": {
        "id": "5rGF1cf0eN-Q",
        "colab_type": "text"
      },
      "cell_type": "markdown",
      "source": [
        "## Course 4 - Convolutional Neural Networks\n",
        "![Course 4 ](https://raw.githubusercontent.com/Giffy/Coursera-DeepLearningSpecialization/master/images/Course4.png)\n",
        "\n",
        "playlist: https://www.youtube.com/playlist?list=PLkDaE6sCZn6Gl29AoE31iwdVwSG-KnDzF"
      ]
    },
    {
      "metadata": {
        "id": "mtYy0GrdzOB6",
        "colab_type": "text"
      },
      "cell_type": "markdown",
      "source": [
        "###Week 1   ( 1h 45min)"
      ]
    },
    {
      "metadata": {
        "id": "E3ii1NoJjvB_",
        "colab_type": "text"
      },
      "cell_type": "markdown",
      "source": [
        "Lesson 1 - [Computer Vision](https://www.youtube.com/watch?v=ArPaAX_PhIs)  (5:44)\n",
        "\n",
        "Lesson 2 - [Vertical Edge detection](https://www.youtube.com/watch?v=XuD4C8vJzEQ) (11:31)\n",
        "\n",
        "Lesson 3 - [Positive and negative Edges](https://www.youtube.com/watch?v=am36dePheDc) (light to dark) and horitzontal (7:57)\n",
        "\n",
        "Lesson 4 - [Padding ](https://www.youtube.com/watch?v=smHa2442Ah4)  (9:50)\n",
        "\n",
        "Lesson 5 - [Stridded convolutions](https://www.youtube.com/watch?v=tQYZaDn_kSg)  (9:02)\n",
        "\n",
        "Lesson 6 - [Convolutions over volumes](https://www.youtube.com/watch?v=KTB_OFoAQcc) (10:44)\n",
        "\n",
        "Lesson 7 - [One layer of a concolutional Net](https://www.youtube.com/watch?v=jPOAS7uCODQ) (16:10)\n",
        "\n",
        "Lesson 8 - [Simple Convolutional Network Example](https://www.youtube.com/watch?v=3PyJA9AfwSk) (8:35)\n",
        "\n",
        "Lesson 9 - [Pooling Layers](https://www.youtube.com/watch?v=8oOgPUO-TBY) (10:29) \n",
        "   - Max pooling / Average pooling\n",
        "   - Hyperparameters:  f (filter size) , s (stride)\n",
        "   \n",
        "Lesson 10 - [CNN Example](https://www.youtube.com/watch?v=bXJx7y51cl0) (11:40)\n",
        "\n",
        "Lesson 11 - [Why Convolutions](https://www.youtube.com/watch?v=ay3zYUeuyhU) (9:40)"
      ]
    },
    {
      "metadata": {
        "id": "VFwHJ99_2ezE",
        "colab_type": "code",
        "colab": {}
      },
      "cell_type": "code",
      "source": [
        ""
      ],
      "execution_count": 0,
      "outputs": []
    }
  ]
}