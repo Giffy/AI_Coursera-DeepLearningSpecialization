{
  "nbformat": 4,
  "nbformat_minor": 0,
  "metadata": {
    "colab": {
      "name": "Coursera - Deep Learning Specialization.ipynb",
      "version": "0.3.2",
      "provenance": [],
      "collapsed_sections": [
        "jAJ03KTLMY6t",
        "GdWNJsaqmBUF",
        "MNLuMRmZlnIh"
      ],
      "include_colab_link": true
    },
    "kernelspec": {
      "name": "python3",
      "display_name": "Python 3"
    }
  },
  "cells": [
    {
      "cell_type": "markdown",
      "metadata": {
        "id": "view-in-github",
        "colab_type": "text"
      },
      "source": [
        "[View in Colaboratory](https://colab.research.google.com/github/Giffy/Coursera-DeepLearningSpecialization/blob/master/Coursera_Deep_Learning_Specialization.ipynb)"
      ]
    },
    {
      "metadata": {
        "id": "EGKrxCDMfYjR",
        "colab_type": "text"
      },
      "cell_type": "markdown",
      "source": [
        "#Coursera - Deep Learning Specialization"
      ]
    },
    {
      "metadata": {
        "id": "wa6Dlaewyw2n",
        "colab_type": "text"
      },
      "cell_type": "markdown",
      "source": [
        "![deeplearning.ai specialization](https://raw.githubusercontent.com/Giffy/Coursera-DeepLearningSpecialization/master/images/deeplearningai.png)"
      ]
    },
    {
      "metadata": {
        "id": "3bRZ2I68LAxF",
        "colab_type": "text"
      },
      "cell_type": "markdown",
      "source": [
        "## Course 1 - Convolutional Neural Networks\n",
        "![Course 1](https://raw.githubusercontent.com/Giffy/Coursera-DeepLearningSpecialization/master/images/Course1.png)\n",
        "\n",
        "[Playlist](https://www.youtube.com/playlist?list=PLkDaE6sCZn6Ec-XTbcX1uRg2_u4xOEky0)"
      ]
    },
    {
      "metadata": {
        "id": "jAJ03KTLMY6t",
        "colab_type": "text"
      },
      "cell_type": "markdown",
      "source": [
        "###Week 1  ( 36min )"
      ]
    },
    {
      "metadata": {
        "id": "QyGTKvEMKuNb",
        "colab_type": "text"
      },
      "cell_type": "markdown",
      "source": [
        "Lesson 1 - [Welcome](https://www.youtube.com/watch?v=CS4cs9xVecg) (5:31) \n",
        "\n",
        "Lesson 2 - [What is a Neural Network?](https://www.youtube.com/watch?v=n1l-9lIMW7E) (7:16) \n",
        "\n",
        "Lesson 3 - [Supervised Learning with a Neural Network](https://www.youtube.com/watch?v=BYGpKPY9pO0) (8:29) \n",
        "\n",
        "Lesson 4 - [Why deep learining is taking off?](https://www.youtube.com/watch?v=xflCLdJh0n0) (10:22) \n",
        "\n",
        "Lesson 5 - [About this course](https://www.youtube.com/watch?v=ysnIDax71yY) (2:28) \n",
        "\n",
        "Lesson 6 - [Course resources](https://www.youtube.com/watch?v=7AZjh2VXD6E) (1:56) "
      ]
    },
    {
      "metadata": {
        "id": "_TIWysU7UI8s",
        "colab_type": "text"
      },
      "cell_type": "markdown",
      "source": [
        "###Week 2 ( 1h 54min)"
      ]
    },
    {
      "metadata": {
        "id": "DPF0vQLLUUNV",
        "colab_type": "text"
      },
      "cell_type": "markdown",
      "source": [
        "Lesson 1 - [Binary classification](https://www.youtube.com/watch?v=eqEc66RFY0I) (8:23) \n",
        "\n",
        "Lesson 2 - [Logistic Regression](https://www.youtube.com/watch?v=hjrYrynGWGA) (5:59) \n",
        "\n",
        "Lesson 3 - [Logistic Regression Cost Function](https://www.youtube.com/watch?v=SHEPb1JHw5o) (8:11) \n",
        "   - Loss (errror) function   L(ŷ,y)\n",
        "   - Cost function  J(w,b)\n",
        "\n",
        "Lesson 4 - [Gradient Descent](https://www.youtube.com/watch?v=uJryes5Vk1o) (11:24) \n",
        "\n",
        "Lesson 5 - [Derivates](https://www.youtube.com/watch?v=GzphoJOVEcE) (7:10) \n",
        "   - Slope = height / width\n",
        "\n",
        "Lesson 6 - [More derivative examples](https://www.youtube.com/watch?v=5H7M5Vd3-pk&t=320s) (5:07) \n",
        "\n",
        "Lesson 7 - [Computation graph](https://www.youtube.com/watch?v=hCP1vGoCdYU) (3:33) \n",
        "\n",
        "-Lesson 8 - [Derivatives with computation graphs](https://www.youtube.com/watch?v=nJyUyKN-XBQ) (14:33)\n",
        "\n",
        "-Lesson 9 - [Logistic Regression Gradient Descent](https://www.youtube.com/watch?v=z_xiwjEdAC4) (6:42)\n",
        "\n",
        "-Lesson 10 - [Gradient Descent on m Examples](https://www.youtube.com/watch?v=KKfZLXcF-aE) (8:00)\n",
        "\n",
        "-Lesson 11- [Vectorization](https://www.youtube.com/watch?v=qsIrQi0fzbY) (8:04)\n",
        "\n",
        "-Lesson 12 - [More vectorization examples](https://www.youtube.com/watch?v=pYWASRauTzs) (6.19)\n",
        "\n",
        "-Lesson 13 - [Vectorizing Logistic Regression](https://www.youtube.com/watch?v=okpqeEUdEkY) (7:32)\n",
        "\n",
        "-Lesson 14 - [Vectorizing Logistic Regression's Gradient Computation](https://www.youtube.com/watch?v=2BkqApHKwn0) (9:37)\n",
        "\n",
        "-Lesson 15 - [Broadcastin in Python](https://www.youtube.com/watch?v=tKcLaGdvabM) (11:05)\n",
        "\n",
        "-Lesson 16 - A note on python/numpy vectors\n",
        "\n",
        "-Lesson 17 - Quick tour of Jupyter/iPython Notebooks\n",
        "\n",
        "-Lesson 18 - Explanation of logistic regression cost function\n",
        "\n",
        "-Other - [Python Basics with numpy](https://github.com/Giffy/Coursera-DeepLearningSpecialization/blob/master/Course1_Other/PythonBasicsWithNumpyV3.ipynb) (optional)"
      ]
    },
    {
      "metadata": {
        "id": "OZ_pIEWzxC5v",
        "colab_type": "text"
      },
      "cell_type": "markdown",
      "source": [
        "###Week 3"
      ]
    },
    {
      "metadata": {
        "id": "XvU4YfhXxGPs",
        "colab_type": "text"
      },
      "cell_type": "markdown",
      "source": [
        "Lesson1 - Neural Networks Overview\n",
        "\n",
        "Lesson2 - Neural Network Representation\n",
        "\n",
        "Lesson3 - Computing a Neural Network's Output\n",
        "\n",
        "Lesson4 - Vectorizing across multiple examples\n",
        "\n",
        "Lesson5 - Explanation for Vectorized Implementation\n",
        "\n",
        "Lesson6 - Activation functions\n",
        "\n",
        "Lesson7 - Why do you need non-linear activation functions?\n",
        "\n",
        "Lesson8 - Derivatives of activation functions\n",
        "\n",
        "Lesson9 - Gradient descent for Neural Networks\n",
        "\n",
        "Lesson10 - Backpropagation intuition (optional)\n",
        "\n",
        "Lesson11 - Random Initialization\n",
        "\n",
        "Other - [Planar data classification with a hidden layer](https://github.com/yyfhust/Planar-data-classification-with-a-hidden-layer)\n",
        "\n",
        "Lesson12 - Ian Goodfellow interview"
      ]
    },
    {
      "metadata": {
        "id": "YZ0VIWws5UIO",
        "colab_type": "text"
      },
      "cell_type": "markdown",
      "source": [
        "###Week 4"
      ]
    },
    {
      "metadata": {
        "id": "Pk8dyFaW5j1P",
        "colab_type": "text"
      },
      "cell_type": "markdown",
      "source": [
        "Lesson1 - Deep L-layer neural network\n",
        "\n",
        "Lesson2 - Forward Propagation in a Deep Network\n",
        "\n",
        "Lesson3 - Getting your matrix dimensions right\n",
        "\n",
        "Lesson4 - Why deep representations?\n",
        "\n",
        "Lesson5 - Building blocks of deep neural networks\n",
        "\n",
        "Lesson6 - Forward and Backward Propagation\n",
        "\n",
        "Lesson7 - Parameters vs Hyperparameters\n",
        "\n",
        "Lesson8 - What does this have to do with the brain?"
      ]
    },
    {
      "metadata": {
        "id": "GdWNJsaqmBUF",
        "colab_type": "text"
      },
      "cell_type": "markdown",
      "source": [
        "## Course 2 - Tuning Networks\n",
        "![Course 2](https://raw.githubusercontent.com/Giffy/Coursera-DeepLearningSpecialization/master/images/Course2.png)\n",
        "\n",
        "playlist: https://www.youtube.com"
      ]
    },
    {
      "metadata": {
        "id": "YzRISD-FmMer",
        "colab_type": "text"
      },
      "cell_type": "markdown",
      "source": [
        "###Week 1"
      ]
    },
    {
      "metadata": {
        "id": "MNLuMRmZlnIh",
        "colab_type": "text"
      },
      "cell_type": "markdown",
      "source": [
        "## Course 3 - Structuring ML projects\n",
        "![Course 3](https://raw.githubusercontent.com/Giffy/Coursera-DeepLearningSpecialization/master/images/Course3.png)\n",
        "\n",
        "playlist: https://www.youtube.com"
      ]
    },
    {
      "metadata": {
        "id": "jUf5c_FCl64S",
        "colab_type": "text"
      },
      "cell_type": "markdown",
      "source": [
        "###Week 1"
      ]
    },
    {
      "metadata": {
        "id": "5rGF1cf0eN-Q",
        "colab_type": "text"
      },
      "cell_type": "markdown",
      "source": [
        "## Course 4 - Convolutional Neural Networks\n",
        "![Course 4 ](https://raw.githubusercontent.com/Giffy/Coursera-DeepLearningSpecialization/master/images/Course4.png)\n",
        "\n",
        "playlist: https://www.youtube.com/playlist?list=PLkDaE6sCZn6Gl29AoE31iwdVwSG-KnDzF"
      ]
    },
    {
      "metadata": {
        "id": "mtYy0GrdzOB6",
        "colab_type": "text"
      },
      "cell_type": "markdown",
      "source": [
        "###Week 1   ( 1h 45min)"
      ]
    },
    {
      "metadata": {
        "id": "E3ii1NoJjvB_",
        "colab_type": "text"
      },
      "cell_type": "markdown",
      "source": [
        "Lesson 1 - [Computer Vision](https://www.youtube.com/watch?v=ArPaAX_PhIs)  (5:44)\n",
        "\n",
        "Lesson 2 - [Vertical Edge detection](https://www.youtube.com/watch?v=XuD4C8vJzEQ) (11:31)\n",
        "\n",
        "Lesson 3 - [Positive and negative Edges](https://www.youtube.com/watch?v=am36dePheDc) (light to dark) and horitzontal (7:57)\n",
        "\n",
        "Lesson 4 - [Padding ](https://www.youtube.com/watch?v=smHa2442Ah4)  (9:50)\n",
        "\n",
        "Lesson 5 - [Stridded convolutions](https://www.youtube.com/watch?v=tQYZaDn_kSg)  (9:02)\n",
        "\n",
        "Lesson 6 - [Convolutions over volumes](https://www.youtube.com/watch?v=KTB_OFoAQcc) (10:44)\n",
        "\n",
        "Lesson 7 - [One layer of a concolutional Net](https://www.youtube.com/watch?v=jPOAS7uCODQ) (16:10)\n",
        "\n",
        "Lesson 8 - [Simple Convolutional Network Example](https://www.youtube.com/watch?v=3PyJA9AfwSk) (8:35)\n",
        "\n",
        "Lesson 9 - [Pooling Layers](https://www.youtube.com/watch?v=8oOgPUO-TBY) (10:29) \n",
        "   - Max pooling / Average pooling\n",
        "   - Hyperparameters:  f (filter size) , s (stride)\n",
        "   \n",
        "Lesson 10 - [CNN Example](https://www.youtube.com/watch?v=bXJx7y51cl0) (11:40)\n",
        "\n",
        "Lesson 11 - [Why Convolutions](https://www.youtube.com/watch?v=ay3zYUeuyhU) (9:40)"
      ]
    },
    {
      "metadata": {
        "id": "VFwHJ99_2ezE",
        "colab_type": "code",
        "colab": {}
      },
      "cell_type": "code",
      "source": [
        ""
      ],
      "execution_count": 0,
      "outputs": []
    },
    {
      "metadata": {
        "id": "OFCGt5RN5XcZ",
        "colab_type": "text"
      },
      "cell_type": "markdown",
      "source": [
        ""
      ]
    }
  ]
}