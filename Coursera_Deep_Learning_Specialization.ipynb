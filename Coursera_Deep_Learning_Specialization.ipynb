{
  "nbformat": 4,
  "nbformat_minor": 0,
  "metadata": {
    "colab": {
      "name": "Coursera - Deep Learning Specialization.ipynb",
      "version": "0.3.2",
      "provenance": [],
      "collapsed_sections": [],
      "include_colab_link": true
    },
    "kernelspec": {
      "name": "python3",
      "display_name": "Python 3"
    }
  },
  "cells": [
    {
      "cell_type": "markdown",
      "metadata": {
        "id": "view-in-github",
        "colab_type": "text"
      },
      "source": [
        "[View in Colaboratory](https://colab.research.google.com/github/Giffy/Coursera-DeepLearningSpecialization/blob/master/Coursera_Deep_Learning_Specialization.ipynb)"
      ]
    },
    {
      "metadata": {
        "id": "EGKrxCDMfYjR",
        "colab_type": "text"
      },
      "cell_type": "markdown",
      "source": [
        "#Coursera - Deep Learning Specialization"
      ]
    },
    {
      "metadata": {
        "id": "wa6Dlaewyw2n",
        "colab_type": "text"
      },
      "cell_type": "markdown",
      "source": [
        "![image](https://raw.githubusercontent.com/Giffy/Coursera-DeepLearningSpecialization/master/deeplearning.png)"
      ]
    },
    {
      "metadata": {
        "id": "5rGF1cf0eN-Q",
        "colab_type": "text"
      },
      "cell_type": "markdown",
      "source": [
        "## Course 4 - Convolutional Neural Networks"
      ]
    },
    {
      "metadata": {
        "id": "mtYy0GrdzOB6",
        "colab_type": "text"
      },
      "cell_type": "markdown",
      "source": [
        "###Week 1"
      ]
    },
    {
      "metadata": {
        "id": "E3ii1NoJjvB_",
        "colab_type": "text"
      },
      "cell_type": "markdown",
      "source": [
        "Lesson 1 - Computer Vision  https://www.youtube.com/watch?v=ArPaAX_PhIs&list=PLkDaE6sCZn6Gl29AoE31iwdVwSG-KnDzF\n",
        "\n",
        "\n",
        "Lesson 2 - Vertical Edge detection\n",
        "https://www.youtube.com/watch?v=XuD4C8vJzEQ\n",
        "\n",
        "Lesson 3 - Positive and negative Edges (light to dark) and horitzontal\n",
        "https://www.youtube.com/watch?v=am36dePheDc\n",
        "\n",
        "Sobel filter - Scharr filter\n",
        "\n",
        "Lesson 4 - Padding   https://www.youtube.com/watch?v=smHa2442Ah4\n",
        "\n",
        "Lesson 5 - Stridded convolutions  https://www.youtube.com/watch?v=tQYZaDn_kSg\n",
        "\n",
        "Lesson 6 - Convolutions over volumes https://www.youtube.com/watch?v=KTB_OFoAQcc\n",
        "\n",
        "Lesson 7 - One layer of a concolutional Net  https://www.youtube.com/watch?v=jPOAS7uCODQ"
      ]
    },
    {
      "metadata": {
        "id": "0TOau9hX24KM",
        "colab_type": "code",
        "colab": {}
      },
      "cell_type": "code",
      "source": [
        ""
      ],
      "execution_count": 0,
      "outputs": []
    }
  ]
}