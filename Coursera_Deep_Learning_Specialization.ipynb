{
  "nbformat": 4,
  "nbformat_minor": 0,
  "metadata": {
    "colab": {
      "name": "Coursera - Deep Learning Specialization.ipynb",
      "version": "0.3.2",
      "provenance": [],
      "collapsed_sections": [],
      "include_colab_link": true
    },
    "kernelspec": {
      "name": "python3",
      "display_name": "Python 3"
    }
  },
  "cells": [
    {
      "cell_type": "markdown",
      "metadata": {
        "id": "view-in-github",
        "colab_type": "text"
      },
      "source": [
        "<a href=\"https://colab.research.google.com/github/Giffy/Coursera-DeepLearningSpecialization/blob/master/Coursera_Deep_Learning_Specialization.ipynb\" target=\"_parent\"><img src=\"https://colab.research.google.com/assets/colab-badge.svg\" alt=\"Open In Colab\"/></a>"
      ]
    },
    {
      "metadata": {
        "id": "EGKrxCDMfYjR",
        "colab_type": "text"
      },
      "cell_type": "markdown",
      "source": [
        "#DeepLearning.ai  - Coursera Deep Learning Specialization \n",
        "#Course 1"
      ]
    },
    {
      "metadata": {
        "id": "wa6Dlaewyw2n",
        "colab_type": "text"
      },
      "cell_type": "markdown",
      "source": [
        "![deeplearning.ai specialization](https://raw.githubusercontent.com/Giffy/Coursera-DeepLearningSpecialization/master/images/deeplearningai-Course1.png)\n",
        "\n",
        "[Go to Course 2](https://github.com/Giffy/Coursera-DeepLearningSpecialization/blob/master/Coursera_Deep_Learning_Specialization_Course2.ipynb)"
      ]
    },
    {
      "metadata": {
        "id": "3bRZ2I68LAxF",
        "colab_type": "text"
      },
      "cell_type": "markdown",
      "source": [
        "## Course 1 - Neural Networks\n",
        "![Course 1](https://raw.githubusercontent.com/Giffy/Coursera-DeepLearningSpecialization/master/images/Course1.png)\n",
        "\n",
        "[Playlist](https://www.youtube.com/playlist?list=PLkDaE6sCZn6Ec-XTbcX1uRg2_u4xOEky0)"
      ]
    },
    {
      "metadata": {
        "id": "jAJ03KTLMY6t",
        "colab_type": "text"
      },
      "cell_type": "markdown",
      "source": [
        "###Week 1  ( 36min )"
      ]
    },
    {
      "metadata": {
        "id": "QyGTKvEMKuNb",
        "colab_type": "text"
      },
      "cell_type": "markdown",
      "source": [
        "Introduction - [Welcome](https://www.youtube.com/watch?v=CS4cs9xVecg) (5:31) \n",
        "\n",
        "Lesson 1 - [What is a Neural Network?](https://www.youtube.com/watch?v=n1l-9lIMW7E) (7:16) \n",
        "\n",
        "Lesson 2 - [Supervised Learning with a Neural Network](https://www.youtube.com/watch?v=BYGpKPY9pO0) (8:29) \n",
        "\n",
        "Lesson 3 - [Why deep learining is taking off?](https://www.youtube.com/watch?v=xflCLdJh0n0) (10:22) \n",
        "\n",
        "Lesson 4 - [About this course](https://www.youtube.com/watch?v=ysnIDax71yY) (2:28) \n",
        "\n",
        "Lesson 5 - [Course resources](https://www.youtube.com/watch?v=7AZjh2VXD6E) (1:56) \n",
        "\n",
        "Interview - [Geoffrey Hinton](https://www.coursera.org/lecture/neural-networks-deep-learning/geoffrey-hinton-interview-dcm5r) (40:22) (Optional)"
      ]
    },
    {
      "metadata": {
        "id": "_TIWysU7UI8s",
        "colab_type": "text"
      },
      "cell_type": "markdown",
      "source": [
        "###Week 2 ( 2h 17min + 3h + 16min)"
      ]
    },
    {
      "metadata": {
        "id": "DPF0vQLLUUNV",
        "colab_type": "text"
      },
      "cell_type": "markdown",
      "source": [
        "Lesson 1 - [Binary classification](https://www.youtube.com/watch?v=eqEc66RFY0I) (8:23) \n",
        " $$ Train\\ examples : m = {(x^{(1)},y^{(1)}), (x^{(2)},y^{(2)}), ..., (x^{(m)},y^{(m)})} $$\n",
        " $$ X \\epsilon R^{n~x~ X \\ m} $$ \n",
        " $$ X.shape = (n~x~ , m) $$ \n",
        " $$ Y \\epsilon R^{1 X  m} $$ \n",
        " $$ X.shape = (1 , m) $$ \n",
        "\n",
        "Lesson 2 - [Logistic Regression](https://www.youtube.com/watch?v=hjrYrynGWGA) (5:59) \n",
        "\n",
        " $$ z = w^T x + b  \\ \\ -> \\   a = \\sigma{}(z)  \\ \\ -> \\  L(a,y) $$\n",
        " $$ Sigmoid, if\\ z\\ is\\ large\\ \\sigma(z) \\approx 1$$\n",
        " $$ Sigmoid, if\\ z\\ is\\ small\\ \\sigma(z) \\approx 0$$\n",
        "\n",
        "\n",
        "Lesson 3 - [Logistic Regression Cost Function](https://www.youtube.com/watch?v=SHEPb1JHw5o) (8:11) \n",
        " \n",
        "  $$ Data : x^{(i)}, y^{(i)}, z^{(i)} $$\n",
        "  $$ Prediction : \\hat{y}$$\n",
        "  $$ Loss\\ (errror)\\ function :  L(\\hat{y},y) $$\n",
        "  $$ Cost\\ function :  J(w,b) $$\n",
        "\n",
        "Lesson 4 - [Gradient Descent](https://www.youtube.com/watch?v=uJryes5Vk1o) (11:24) \n",
        "\n",
        "$$ J(w,b) = \\frac{1}{m} \\sum_{i=1}^{m} L(\\hat{y}^{(i)},y^{(i)}) $$\n",
        "$$ w:= w - \\alpha{} \\ \\frac{dJ(w,b)}{dw}$$\n",
        "$$ b:= b - \\alpha{} \\ \\frac{dJ(w,b)}{db}$$\n",
        "\n",
        "Lesson 5 - [Derivates](https://www.youtube.com/watch?v=GzphoJOVEcE) (7:10) \n",
        "   - Slope = height / width\n",
        "\n",
        "Lesson 6 - [More derivative examples](https://www.youtube.com/watch?v=5H7M5Vd3-pk&t=320s) (5:07) \n",
        "\n",
        "Lesson 7 - [Computation graph](https://www.youtube.com/watch?v=hCP1vGoCdYU) (3:33) \n",
        "\n",
        "Lesson 8 - [Derivatives with computation graphs](https://www.youtube.com/watch?v=nJyUyKN-XBQ) (14:33)\n",
        "\n",
        "Lesson 9 - [Logistic Regression Gradient Descent](https://www.youtube.com/watch?v=z_xiwjEdAC4) (6:42)\n",
        "\n",
        "Lesson 10 - [Gradient Descent on m Examples](https://www.youtube.com/watch?v=KKfZLXcF-aE) (8:00)\n",
        "\n",
        "Lesson 11- [Vectorization](https://www.youtube.com/watch?v=qsIrQi0fzbY) (8:04)\n",
        "\n",
        "Lesson 12 - [More vectorization examples](https://www.youtube.com/watch?v=pYWASRauTzs) (6.19)\n",
        "\n",
        "Examples - [Lesson 11 and 12 examples](https://github.com/Giffy/Coursera-DeepLearningSpecialization/blob/master/Course1_Other/Week2_Examples_L11_12.ipynb)\n",
        "\n",
        "Lesson 13 - [Vectorizing Logistic Regression](https://www.youtube.com/watch?v=okpqeEUdEkY) (7:32)\n",
        "\n",
        "Lesson 14 - [Vectorizing Logistic Regression's Gradient Output](https://www.youtube.com/watch?v=2BkqApHKwn0) (9:37)\n",
        "\n",
        "\n",
        "$$ db = \\frac{1}{m} \\ np.sum(dz) $$\n",
        "\n",
        "Lesson 15 - [Broadcastin in Python](https://www.youtube.com/watch?v=tKcLaGdvabM) (11:05)\n",
        "\n",
        "Lesson 16 - [A note on python/numpy vectors](https://www.youtube.com/watch?v=V2QlTmh6P2Y) (6:49)\n",
        "\n",
        "Examples - [Lesson 15 and 16 examples](https://github.com/Giffy/Coursera-DeepLearningSpecialization/blob/master/Course1_Other/Week2_Examples_L15_16.ipynb)\n",
        "\n",
        "Lesson 17 - [Quick tour of Jupyter/iPython Notebooks](https://www.youtube.com/watch?v=0S9c7nHoDws) (3:43)\n",
        "\n",
        "Lesson 18 - [Explanation of logistic regression cost function](https://www.youtube.com/watch?v=k_S5fnKjO-4) (7:14) (Optional)\n",
        "\n",
        "Assigment - [Python Basics with numpy](https://github.com/Giffy/Coursera-DeepLearningSpecialization/blob/master/Course1_Other/Week2_1_PythonBasicsWithNumpyV3.ipynb) (optional) [SOLVED](https://github.com/Giffy/Coursera-DeepLearningSpecialization/blob/master/Course1_Other/Week2_1_PythonBasicsWithNumpyV3_SOLVED.ipynb) (approx. 1h)\n",
        "\n",
        "Assigment - [Logistic Regression with a Neural Network mindset](https://github.com/Giffy/Coursera-DeepLearningSpecialization/blob/master/Course1_Other/Week2_2_LogisticRegressionWithANeuralNetworkMindsetV3.ipynb) (required) [SOLVED](https://github.com/Giffy/Coursera-DeepLearningSpecialization/blob/master/Course1_Other/Week2_2_LogisticRegressionWithANeuralNetworkMindsetV3_SOLVED.ipynb) (approx. 2h)\n",
        "\n",
        "Interview - [Pieter Abbeel](https://www.coursera.org/lecture/neural-networks-deep-learning/pieter-abbeel-interview-eqiZZ) (16:03) (Optional)"
      ]
    },
    {
      "metadata": {
        "id": "OZ_pIEWzxC5v",
        "colab_type": "text"
      },
      "cell_type": "markdown",
      "source": [
        "###Week 3 ( 1h 35min + 15min)"
      ]
    },
    {
      "metadata": {
        "id": "XvU4YfhXxGPs",
        "colab_type": "text"
      },
      "cell_type": "markdown",
      "source": [
        "Lesson1 - [Neural Networks Overview](https://www.youtube.com/watch?v=fXOsFF95ifk) (4:26)\n",
        "\n",
        "Lesson2 - [Neural Network Representation](https://www.youtube.com/watch?v=CcRkHl75Z-Y) (5:14)\n",
        "\n",
        "Lesson3 - [Computing a Neural Network's Output](https://www.youtube.com/watch?v=rMOdrD61IoU) (9:57)\n",
        "\n",
        "Lesson4 - [Vectorizing across multiple examples](https://www.youtube.com/watch?v=xy5MOQpx3aQ) (9:05)\n",
        "\n",
        "Lesson5 - [Explanation for Vectorized Implementation](https://www.youtube.com/watch?v=kkWRbIb42Ms) (7:38)\n",
        "\n",
        "Lesson6 - [Activation functions](https://www.youtube.com/watch?v=Xvg00QnyaIY) (10:56)\n",
        "   $$sigmoid \\ \\ a = \\sigma{}(z) =  \\frac{1}{(1+e^{-2})} \\ \\   (usually\\ for\\ output\\ layer)$$\n",
        "   $$tanH{}\\ \\ \\ \\ a = g(z) = \\frac{e^z - e^{-z}}{ e^z + e^{-z}} \\ \\  (usually\\ for\\ hidden\\ layers)$$\n",
        "   $$rectified\\ linear\\ unit \\ \\ a = relu{}(z) = max (0,z)\\ \\  (usually\\ for\\ hidden\\ layers,\\ faster)$$\n",
        "\n",
        "![Activation functions](https://raw.githubusercontent.com/Giffy/Coursera-DeepLearningSpecialization/master/images/Common-neural-network-activation-functions-SD.png)\n",
        "\n",
        "Lesson7 - [Why do you need non-linear activation functions?](https://www.youtube.com/watch?v=NkOv_k7r6no) (5:35)\n",
        "\n",
        "Lesson8 - [Derivatives of activation functions](https://www.youtube.com/watch?v=P7_jFxTtJEo) (7:57)\n",
        "\n",
        "Lesson9 - [Gradient descent for Neural Networks](https://www.youtube.com/watch?v=7bLEWDZng_M)(9:58)\n",
        "$$dZ^{[2]} = A^{[2]}-Y$$\n",
        "$$dW^{[2]}=\\frac{1}{m} dZ^{[2]} A^{[1]^T} $$\n",
        "$$db^{[2]}=\\frac{1}{m} np.sum(dZ^{[2]},axis=1,keepdims=True)$$\n",
        "$$dZ^{[1]}=W^{[2]^T}dZ^{[2]}*g^{[1]}\\ (Z^{[1]})$$\n",
        "$$dW^{[1]}=\\frac{1}{m}dZ^{[1]}X^T$$\n",
        "$$db^{[1]}=\\frac{1}{m}np.sum(dZ^{[1]},axis=1, keepdims =True) $$\n",
        "\n",
        "Lesson10 - [Backpropagation intuition](https://www.youtube.com/watch?v=yXcQ4B-YSjQ) (optional) (15:48) [Explained by google](https://google-developers.appspot.com/machine-learning/crash-course/backprop-scroll/)\n",
        "$$W^{[1]}=np.random.randn((2,2))*0,01 $$\n",
        "$$b^{[1]}=np.zero((2,1)) $$\n",
        "$$Z^{[1]}= W^{[1]} x + b^{[1]}$$\n",
        "$$a^{[1]} = g^{[1]}(z^{[1]})$$\n",
        "\n",
        "Lesson11 - [Random Initialization](https://www.youtube.com/watch?v=6by6Xas_Kho) (7:57)\n",
        "\n",
        "Assigment - [Planar data classification with a hidden layer](https://github.com/Giffy/Coursera-DeepLearningSpecialization/blob/master/Course1_Other/Week3_PlanarDataClassificationWithOneHiddenLayerV3.ipynb) (required) [SOLVED](https://github.com/Giffy/Coursera-DeepLearningSpecialization/blob/master/Course1_Other/Week3_PlanarDataClassificationWithOneHiddenLayerV3_SOLVED.ipynb)\n",
        "\n",
        "Interview - [Ian Goodfellow interview](https://www.youtube.com/watch?v=aHDLVlmcRWw) (14:55) (Optional)"
      ]
    },
    {
      "metadata": {
        "id": "YZ0VIWws5UIO",
        "colab_type": "text"
      },
      "cell_type": "markdown",
      "source": [
        "###Week 4  ( 1h 5min)"
      ]
    },
    {
      "metadata": {
        "id": "Pk8dyFaW5j1P",
        "colab_type": "text"
      },
      "cell_type": "markdown",
      "source": [
        "Lesson1 - [Deep L-layer neural network](https://www.youtube.com/watch?v=2gw5tE2ziqA) (5:50)\n",
        "\n",
        "\n",
        "![Neural Networks](https://raw.githubusercontent.com/Giffy/Coursera-DeepLearningSpecialization/master/images/neuralNetwork.gif)\n",
        "\n",
        "\n",
        "> **Deep Neural Network Notation**\n",
        "\n",
        "   $$L  = \\ Number\\ \\ of\\ \\ layers   $$\n",
        "   $$n^{[l]}  =    Number\\ \\ of\\ \\ units\\ \\ in\\ \\ layer\\ \\ l  $$\n",
        "   $$a^{[l]}  =    activation\\ \\ in\\ \\ layer\\ \\ l$$\n",
        "  $$a^{[l]}  =    g^{[l]} (z^{[l]}) $$\n",
        "  $$w^{[l]}  =    weights\\ \\ for\\ \\ z^{[l]} $$\n",
        "   \n",
        "Lesson2 - [Forward Propagation in a Deep Network](https://www.youtube.com/watch?v=a8i2eJin0lY) (7:15)\n",
        "\n",
        "  $$Fisrt\\ Layer:\\ z^{[1]} = w^{[1]}x + b^{[1]}$$\n",
        "  $$First\\ Layer\\ Activation: \\ a^{[1]} = g^{[1]}(z^{[1]})$$\n",
        "  $$Second\\ Layer:\\ z^{[2]} = w^{[2]} a^{[1]} + b^{[2]}$$\n",
        "  $$Second\\ Layer\\ Activation: \\ a^{[2]} = g^{[2]} (z^{[2]})$$\n",
        "  $$:$$\n",
        "  $$Output\\ Layer:\\ z^{[4]} = w^{[4]} a^{[3]} + b^{[4]}$$\n",
        "  $$Second\\ Layer\\ Activation: \\ a^{[4]} = g^{[4]} (z^{[4]}) =\\hat{y}\\ (estimated\\ output)$$\n",
        "  \n",
        "|  General formula  |\n",
        "|---|\n",
        "|  $$   z[ {[l]}]= w^{[l]} a^{[l-1]} + b^{[l]}$$  |\n",
        "|  $$   a^{[l]} = g^{[l]} (z^{[l]}) = \\hat{y}\\ (estimated\\ output)$$  |\n",
        "\n",
        "\n",
        "|  Vectorized formula  |\n",
        "|---|\n",
        "|  $$   X = A^{[0]} $$  |\n",
        "|  $$   Z^{[1]}= W^{[1]} X + b^{[1]}$$  |\n",
        "|  $$   \\hat{Y} = A^{[1]} = g^{[1]} (Z^{[1]})$$  |\n",
        "  \n",
        "  \n",
        "-Lesson3 - [Getting your matrix dimensions right](https://www.youtube.com/watch?v=yslMo3hSbqE) (11:09)\n",
        "\n",
        "-Lesson4 - [Why deep representations?](https://www.youtube.com/watch?v=5dWp1mw_XNk) (10:33)\n",
        "\n",
        "-Lesson5 - [Building blocks of deep neural networks](https://www.youtube.com/watch?v=B7-iPbddhsw) (8:33)\n",
        "\n",
        "-Lesson6 - [Forward and backward propagation](https://www.youtube.com/watch?v=qzPQ8cEsVK8)(10:29)\n",
        "\n",
        "-Lesson7 - [Parameters vs Hyperparameters](https://www.youtube.com/watch?v=VTE2KlfoO3Q) (7:16)\n",
        "\n",
        "-Lesson8 - [What does this have to do with the brain?](https://www.youtube.com/watch?v=2zgon7XfN4I) (3:17)\n",
        "\n",
        "Assigment - [Building your Deep Neural Network - Step by Step](https://github.com/Giffy/Coursera-DeepLearningSpecialization/blob/master/Course1_Other/Week4_BuildingYourDeepNeuralNetwork_StepByStep.ipynb) (required) [SOLVED](https://github.com/Giffy/Coursera-DeepLearningSpecialization/blob/master/Course1_Other/Week4_BuildingYourDeepNeuralNetwork_StepByStepV5_SOLVED.ipynb)\n",
        "\n",
        "Assigment - [Deep Neural Network Application: Image Classification](https://github.com/Giffy/Coursera-DeepLearningSpecialization/blob/master/Course1_Other/Week4_DeepNeuralNetwork_ApplicationV3.ipynb) (required) [SOLVED](https://github.com/Giffy/Coursera-DeepLearningSpecialization/blob/master/Course1_Other/Week4_DeepNeuralNetwork_ApplicationV3_SOLVED.ipynb)"
      ]
    },
    {
      "metadata": {
        "id": "4ruyzBLozOas",
        "colab_type": "text"
      },
      "cell_type": "markdown",
      "source": [
        "### Congratulations!!!  You finished the Course 1.\n",
        "[Start the course 2 clicking here](https://github.com/Giffy/Coursera-DeepLearningSpecialization/blob/master/Coursera_Deep_Learning_Specialization_Course2.ipynb)"
      ]
    }
  ]
}