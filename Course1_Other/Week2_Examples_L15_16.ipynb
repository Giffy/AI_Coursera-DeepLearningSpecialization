{
  "nbformat": 4,
  "nbformat_minor": 0,
  "metadata": {
    "colab": {
      "name": "Week2_Examples_L15-16.ipynb",
      "version": "0.3.2",
      "provenance": [],
      "collapsed_sections": [],
      "include_colab_link": true
    },
    "kernelspec": {
      "name": "python3",
      "display_name": "Python 3"
    }
  },
  "cells": [
    {
      "cell_type": "markdown",
      "metadata": {
        "id": "view-in-github",
        "colab_type": "text"
      },
      "source": [
        "[View in Colaboratory](https://colab.research.google.com/github/Giffy/Coursera-DeepLearningSpecialization/blob/master/Course1_Other/Week2_Examples_L15_16.ipynb)"
      ]
    },
    {
      "metadata": {
        "id": "JM4Xou0ofFTa",
        "colab_type": "text"
      },
      "cell_type": "markdown",
      "source": [
        "### Week 2 - Example Lesson 15 -  Broadcasting example\n",
        "\n",
        "Calories from Carbs, Proteins, Fats in 100g of different foods:\n",
        "\n",
        "|                  |   Apples | Beef | Eggs | Potatoes |\n",
        "|--------------|-------------|--------|----------|----------------|\n",
        "|Carb        | 56.0       |    0.0  |    4.4   |68.0          |\n",
        "| Protein  |  1.2 |  104.0 | 52.0   | 8.0   |\n",
        "| Fat         |1.8   |135.0   |99.0   |0.9   |\n",
        "\n",
        "Calculate % of calories from Carb, Protein and Fat.\n"
      ]
    },
    {
      "metadata": {
        "id": "yLcIAL5ebeC-",
        "colab_type": "code",
        "colab": {}
      },
      "cell_type": "code",
      "source": [
        "import numpy as np\n",
        "\n",
        "A= np.array([[56.0,   0.0,  4.4, 68.0],\n",
        "             [ 1.2, 104.0, 52.0,  8.0],\n",
        "             [ 1.8, 135.0, 99.0,  0.9]])\n",
        "\n",
        "print (A)"
      ],
      "execution_count": 0,
      "outputs": []
    },
    {
      "metadata": {
        "id": "1qgdg5Bgcpqy",
        "colab_type": "code",
        "colab": {}
      },
      "cell_type": "code",
      "source": [
        "# To sum vertically we use axis = 0 ( horizontally axis = 1)\n",
        "\n",
        "cal = A.sum(axis=0)\n",
        "print (cal)"
      ],
      "execution_count": 0,
      "outputs": []
    },
    {
      "metadata": {
        "id": "DljCbwTTeyz2",
        "colab_type": "code",
        "colab": {}
      },
      "cell_type": "code",
      "source": [
        "# To calculate the percentage we divide a 3 x 4 matrix by another 1x4 matrix\n",
        "percentage = 100*A/cal.reshape(1,4)  # reshape indicates the dimensions of cal, already 1 x 4\n",
        "print (percentage)"
      ],
      "execution_count": 0,
      "outputs": []
    },
    {
      "metadata": {
        "id": "6-HUVfvudJ2F",
        "colab_type": "text"
      },
      "cell_type": "markdown",
      "source": [
        "### Week 2 - Example Lesson 16 -  Numpy vectors"
      ]
    },
    {
      "metadata": {
        "id": "b_SMKxyRe-XK",
        "colab_type": "code",
        "colab": {}
      },
      "cell_type": "code",
      "source": [
        "import numpy as np\n",
        "\n"
      ],
      "execution_count": 0,
      "outputs": []
    },
    {
      "metadata": {
        "id": "-l909V_Zf40z",
        "colab_type": "code",
        "colab": {}
      },
      "cell_type": "code",
      "source": [
        "a= np.random.randn (5)                # Generates a \"rank 1 array\"\n",
        "print (a)"
      ],
      "execution_count": 0,
      "outputs": []
    },
    {
      "metadata": {
        "id": "UO3Clnvof6cd",
        "colab_type": "code",
        "colab": {}
      },
      "cell_type": "code",
      "source": [
        "print (a.shape)                       # Shape shows that it is not a vector, it's an array"
      ],
      "execution_count": 0,
      "outputs": []
    },
    {
      "metadata": {
        "id": "7Vx8vsvwgAXS",
        "colab_type": "code",
        "colab": {}
      },
      "cell_type": "code",
      "source": [
        "print (a.T)                           # Transpose the array, doesn't work"
      ],
      "execution_count": 0,
      "outputs": []
    },
    {
      "metadata": {
        "id": "M6oIB82sgISr",
        "colab_type": "code",
        "colab": {}
      },
      "cell_type": "code",
      "source": [
        "print (np.dot(a,a.T))      "
      ],
      "execution_count": 0,
      "outputs": []
    },
    {
      "metadata": {
        "id": "it3JszgdgT14",
        "colab_type": "code",
        "colab": {}
      },
      "cell_type": "code",
      "source": [
        "a= np.random.randn (5,1)              # Generates a 5 x 1 column vector\n",
        "print (a)"
      ],
      "execution_count": 0,
      "outputs": []
    },
    {
      "metadata": {
        "id": "c9R-JDKSgfN7",
        "colab_type": "code",
        "colab": {}
      },
      "cell_type": "code",
      "source": [
        "print (a.shape)                       # Shows the shape of the vector:1 column and 5 items"
      ],
      "execution_count": 0,
      "outputs": []
    },
    {
      "metadata": {
        "id": "pSRwmV70gh8G",
        "colab_type": "code",
        "colab": {}
      },
      "cell_type": "code",
      "source": [
        "print (a.T)                           # Transpose the array"
      ],
      "execution_count": 0,
      "outputs": []
    },
    {
      "metadata": {
        "id": "ouUFReQwg3DT",
        "colab_type": "code",
        "colab": {}
      },
      "cell_type": "code",
      "source": [
        "print (np.dot(a,a.T))                 # Product of a vector by a transposed vector"
      ],
      "execution_count": 0,
      "outputs": []
    },
    {
      "metadata": {
        "id": "w5umZlxViEIp",
        "colab_type": "code",
        "colab": {}
      },
      "cell_type": "code",
      "source": [
        "assert(a.shape == (5,1))              # Checks the shape of the vector"
      ],
      "execution_count": 0,
      "outputs": []
    },
    {
      "metadata": {
        "id": "GEFv0KvGiIfe",
        "colab_type": "code",
        "colab": {}
      },
      "cell_type": "code",
      "source": [
        ""
      ],
      "execution_count": 0,
      "outputs": []
    }
  ]
}