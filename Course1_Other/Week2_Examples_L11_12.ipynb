{
  "nbformat": 4,
  "nbformat_minor": 0,
  "metadata": {
    "colab": {
      "name": "Week2_Examples_L11-12.ipynb",
      "version": "0.3.2",
      "provenance": [],
      "collapsed_sections": [],
      "include_colab_link": true
    },
    "kernelspec": {
      "name": "python3",
      "display_name": "Python 3"
    }
  },
  "cells": [
    {
      "cell_type": "markdown",
      "metadata": {
        "id": "view-in-github",
        "colab_type": "text"
      },
      "source": [
        "[View in Colaboratory](https://colab.research.google.com/github/Giffy/Coursera-DeepLearningSpecialization/blob/master/Course1_Other/Week2_Examples_L11_12.ipynb)"
      ]
    },
    {
      "metadata": {
        "id": "FIkLKaJygyxj",
        "colab_type": "text"
      },
      "cell_type": "markdown",
      "source": [
        "### Example Week 2 Lesson 11"
      ]
    },
    {
      "metadata": {
        "id": "rBdNB1n_en8E",
        "colab_type": "code",
        "colab": {
          "base_uri": "https://localhost:8080/",
          "height": 34
        },
        "outputId": "bdecfcc6-6197-428a-ac9e-cc18315bb9a4"
      },
      "cell_type": "code",
      "source": [
        "import numpy as np\n",
        "\n",
        "a = np.array([1,2,3,4])\n",
        "print (a)"
      ],
      "execution_count": 1,
      "outputs": [
        {
          "output_type": "stream",
          "text": [
            "[1 2 3 4]\n"
          ],
          "name": "stdout"
        }
      ]
    },
    {
      "metadata": {
        "id": "YVPasarAe0IN",
        "colab_type": "code",
        "colab": {
          "base_uri": "https://localhost:8080/",
          "height": 52
        },
        "outputId": "a2506e25-efd1-46a2-f5b1-2dd311c74381"
      },
      "cell_type": "code",
      "source": [
        "import time\n",
        "\n",
        "a = np.random.rand(1000000)\n",
        "b = np.random.rand(1000000)\n",
        "\n",
        "tic = time.time()\n",
        "c = np.dot(a,b)\n",
        "toc = time.time()\n",
        "\n",
        "print (c)\n",
        "print (\"Vectorized version: \" + str(1000*(toc-tic)) + \"ms\")"
      ],
      "execution_count": 7,
      "outputs": [
        {
          "output_type": "stream",
          "text": [
            "249799.248296601\n",
            "Vectorized version:1.3039112091064453ms\n"
          ],
          "name": "stdout"
        }
      ]
    },
    {
      "metadata": {
        "id": "VtnviPCGfPUy",
        "colab_type": "code",
        "colab": {
          "base_uri": "https://localhost:8080/",
          "height": 52
        },
        "outputId": "66cd7ffa-73ee-4ef9-f7aa-798d738b9278"
      },
      "cell_type": "code",
      "source": [
        "c=0\n",
        "\n",
        "tic = time.time()\n",
        "for i in range(1000000):\n",
        "  c+= a[i]*b[i]\n",
        "toc = time.time()\n",
        "\n",
        "print (c)\n",
        "print (\"For loop: \" + str(1000*(toc-tic)) + \"ms\")  ## 400 times slower"
      ],
      "execution_count": 8,
      "outputs": [
        {
          "output_type": "stream",
          "text": [
            "249799.24829660327\n",
            "For loop:410.6566905975342ms\n"
          ],
          "name": "stdout"
        }
      ]
    },
    {
      "metadata": {
        "id": "qGooLEleg8rl",
        "colab_type": "text"
      },
      "cell_type": "markdown",
      "source": [
        "### Example Week 2 Lesson 12 - More vectorization Examples"
      ]
    },
    {
      "metadata": {
        "id": "vMVMClrlft0r",
        "colab_type": "code",
        "colab": {
          "base_uri": "https://localhost:8080/",
          "height": 34
        },
        "outputId": "9395f69f-e509-4ce6-a70a-51cacaa20492"
      },
      "cell_type": "code",
      "source": [
        "tic = time.time()\n",
        "u = np.exp(a)\n",
        "toc = time.time()\n",
        "print (\"Vectorized version: \" + str(1000*(toc-tic)) + \"ms\")"
      ],
      "execution_count": 16,
      "outputs": [
        {
          "output_type": "stream",
          "text": [
            "Vectorized version: 25.19679069519043ms\n"
          ],
          "name": "stdout"
        }
      ]
    },
    {
      "metadata": {
        "id": "fb9rl-bqh0k7",
        "colab_type": "code",
        "colab": {
          "base_uri": "https://localhost:8080/",
          "height": 34
        },
        "outputId": "34c0d835-2f6b-4a19-8260-271aed077003"
      },
      "cell_type": "code",
      "source": [
        "import math\n",
        "n= 1000000\n",
        "u = np.zeros((n,1))\n",
        "\n",
        "tic = time.time()\n",
        "for i in range (n):\n",
        "  u[i]=math.exp(a[i])\n",
        "toc = time.time()\n",
        "print (\"For loop: \" + str(1000*(toc-tic)) + \"ms\")  "
      ],
      "execution_count": 17,
      "outputs": [
        {
          "output_type": "stream",
          "text": [
            "For loop: 561.2053871154785ms\n"
          ],
          "name": "stdout"
        }
      ]
    },
    {
      "metadata": {
        "id": "eqoZqJmCiSir",
        "colab_type": "code",
        "colab": {}
      },
      "cell_type": "code",
      "source": [
        ""
      ],
      "execution_count": 0,
      "outputs": []
    }
  ]
}