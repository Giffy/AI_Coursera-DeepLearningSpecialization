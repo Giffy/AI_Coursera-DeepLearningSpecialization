{
  "nbformat": 4,
  "nbformat_minor": 0,
  "metadata": {
    "colab": {
      "name": "Week2_Examples_L11-12.ipynb",
      "version": "0.3.2",
      "provenance": [],
      "collapsed_sections": [],
      "include_colab_link": true
    },
    "kernelspec": {
      "name": "python3",
      "display_name": "Python 3"
    }
  },
  "cells": [
    {
      "cell_type": "markdown",
      "metadata": {
        "id": "view-in-github",
        "colab_type": "text"
      },
      "source": [
        "[View in Colaboratory](https://colab.research.google.com/github/Giffy/Coursera-DeepLearningSpecialization/blob/master/Course1_Other/Week2_Examples_L11_12.ipynb)"
      ]
    },
    {
      "metadata": {
        "id": "FIkLKaJygyxj",
        "colab_type": "text"
      },
      "cell_type": "markdown",
      "source": [
        "### Example Week 2 Lesson 11"
      ]
    },
    {
      "metadata": {
        "id": "rBdNB1n_en8E",
        "colab_type": "code",
        "colab": {}
      },
      "cell_type": "code",
      "source": [
        "import numpy as np\n",
        "\n",
        "a = np.array([1,2,3,4])\n",
        "print (a)"
      ],
      "execution_count": 0,
      "outputs": []
    },
    {
      "metadata": {
        "id": "YVPasarAe0IN",
        "colab_type": "code",
        "colab": {}
      },
      "cell_type": "code",
      "source": [
        "import time\n",
        "\n",
        "a = np.random.rand(1000000)\n",
        "b = np.random.rand(1000000)\n",
        "\n",
        "tic = time.time()\n",
        "c = np.dot(a,b)\n",
        "toc = time.time()\n",
        "\n",
        "print (c)\n",
        "print (\"Vectorized version: \" + str(1000*(toc-tic)) + \"ms\")"
      ],
      "execution_count": 0,
      "outputs": []
    },
    {
      "metadata": {
        "id": "VtnviPCGfPUy",
        "colab_type": "code",
        "colab": {}
      },
      "cell_type": "code",
      "source": [
        "c=0\n",
        "\n",
        "tic = time.time()\n",
        "for i in range(1000000):\n",
        "  c+= a[i]*b[i]\n",
        "toc = time.time()\n",
        "\n",
        "print (c)\n",
        "print (\"For loop: \" + str(1000*(toc-tic)) + \"ms\")  ## 400 times slower"
      ],
      "execution_count": 0,
      "outputs": []
    },
    {
      "metadata": {
        "id": "qGooLEleg8rl",
        "colab_type": "text"
      },
      "cell_type": "markdown",
      "source": [
        "### Example Week 2 Lesson 12 - More vectorization Examples"
      ]
    },
    {
      "metadata": {
        "id": "vMVMClrlft0r",
        "colab_type": "code",
        "colab": {}
      },
      "cell_type": "code",
      "source": [
        "tic = time.time()\n",
        "u = np.exp(a)\n",
        "toc = time.time()\n",
        "print (\"Vectorized version: \" + str(1000*(toc-tic)) + \"ms\")"
      ],
      "execution_count": 0,
      "outputs": []
    },
    {
      "metadata": {
        "id": "fb9rl-bqh0k7",
        "colab_type": "code",
        "colab": {}
      },
      "cell_type": "code",
      "source": [
        "import math\n",
        "n= 1000000\n",
        "u = np.zeros((n,1))\n",
        "\n",
        "tic = time.time()\n",
        "for i in range (n):\n",
        "  u[i]=math.exp(a[i])\n",
        "toc = time.time()\n",
        "print (\"For loop: \" + str(1000*(toc-tic)) + \"ms\")  "
      ],
      "execution_count": 0,
      "outputs": []
    },
    {
      "metadata": {
        "id": "eqoZqJmCiSir",
        "colab_type": "code",
        "colab": {}
      },
      "cell_type": "code",
      "source": [
        ""
      ],
      "execution_count": 0,
      "outputs": []
    }
  ]
}